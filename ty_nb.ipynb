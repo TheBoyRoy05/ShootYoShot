{
 "cells": [
  {
   "cell_type": "code",
   "execution_count": 3,
   "id": "9c019f54",
   "metadata": {},
   "outputs": [],
   "source": [
    "import pandas as pd\n",
    "import numpy as np\n",
    "import matplotlib.pyplot as plt"
   ]
  },
  {
   "cell_type": "code",
   "execution_count": 4,
   "id": "364f9623",
   "metadata": {},
   "outputs": [],
   "source": [
    "box = pd.read_csv('data/boxscore.csv')\n",
    "game = pd.read_csv('data/games.csv')[['seasonStartYear', 'pointsAway', 'game_id']]"
   ]
  },
  {
   "cell_type": "code",
   "execution_count": 5,
   "id": "954f5be5",
   "metadata": {},
   "outputs": [],
   "source": [
    "players = ['Stephen Curry', 'Shai Gilgeous-Alexander', 'Giannis Antetokounmpo', 'LeBron James', 'Rudy Gobert',\\\n",
    "'Shaquille O\\'Neal', 'DeAndre Jordan', 'Ben Wallace']\n",
    "df = box[box['playerName'].isin(players)]\n",
    "df = df.merge(game, on = 'game_id')\n",
    "df = df[df['MP'] != 'Did Not Play']\n",
    "df['+/-'] = df['+/-'].str.strip('+').apply(pd.to_numeric, errors='coerce')\n",
    "df['seasonStartYear'] = df['seasonStartYear'].astype(str)\n",
    "df[['FG', 'FGA', '3P', '3PA', 'FT', 'FTA', 'ORB', 'DRB', 'TRB', 'AST', 'STL', 'BLK', 'TOV', 'PF', 'PTS']] = df[['FG', 'FGA', '3P', '3PA', 'FT', 'FTA', 'ORB', 'DRB', 'TRB', 'AST', 'STL', 'BLK', 'TOV', 'PF', 'PTS']].apply(pd.to_numeric, errors='coerce')\n"
   ]
  },
  {
   "cell_type": "code",
   "execution_count": 8,
   "id": "400a1dea",
   "metadata": {},
   "outputs": [],
   "source": [
    "# totals = df.groupby(['playerName', 'seasonStartYear'])[['FT', 'FTA']].sum().reset_index()\n",
    "# totals['FT%'] = totals['FT'] / totals['FTA']\n",
    "# totals.sort_values('FT%', ascending=False)\n",
    "# for player, color in [('Stephen Curry', 'green'), ('DeAndre Jordan', 'red')]:\n",
    "#     fig = totals[totals['playerName'] == player].plot(kind = 'line', x = 'seasonStartYear', y = 'FT%', title = f'{player} FT%', color = color)\n",
    "#     fig.set_ylim(.3, 1)"
   ]
  },
  {
   "cell_type": "code",
   "execution_count": 9,
   "id": "ae1d8a64",
   "metadata": {},
   "outputs": [],
   "source": [
    "# df.plot(kind = 'scatter', x = 'FT', y = '+/-', title = 'Effect of FT Made on Player Impact')\n",
    "# df.plot(kind = 'scatter', x = 'FTA', y = '+/-', title = 'Effect of FT Attempts on Player Impact')"
   ]
  },
  {
   "cell_type": "code",
   "execution_count": 53,
   "id": "f1c77a48",
   "metadata": {},
   "outputs": [],
   "source": [
    "# totals = df.groupby('playerName')[['PTS', 'FT']].sum().reset_index()\n",
    "# totals['proportion'] = (round((totals['FT'] / totals['PTS']) * 100, 2))#.apply(str) + '%'\n",
    "# totals\n",
    "\n",
    "# # Assuming 'totals' is a DataFrame already defined\n",
    "# ax = (\n",
    "#     totals.sort_values('PTS', ascending=False)\n",
    "#     .plot(\n",
    "#         kind='bar',\n",
    "#         x='playerName',\n",
    "#         y=['FT', 'PTS'],\n",
    "#         stacked=True,\n",
    "#         figsize=(12, 6),  # Adjust figure size\n",
    "#         title='Free Throw Points vs Total Points'  # Clearer Title\n",
    "#     )\n",
    "# )\n",
    "\n",
    "# # Customizing the Legend\n",
    "# ax.legend(['Free Throw Points', 'Total Points'])\n",
    "\n",
    "# # Customizing Labels and Rotation\n",
    "# ax.set_xlabel('Player Name')\n",
    "# ax.set_ylabel('Points')\n",
    "# ax.set_xticklabels(ax.get_xticklabels(), rotation=45, ha='right')\n",
    "\n",
    "# # Displaying the Plot\n",
    "# plt.tight_layout()\n",
    "# plt.show()\n"
   ]
  }
 ],
 "metadata": {
  "kernelspec": {
   "display_name": "Python 3",
   "language": "python",
   "name": "python3"
  },
  "language_info": {
   "codemirror_mode": {
    "name": "ipython",
    "version": 3
   },
   "file_extension": ".py",
   "mimetype": "text/x-python",
   "name": "python",
   "nbconvert_exporter": "python",
   "pygments_lexer": "ipython3",
   "version": "3.13.1"
  }
 },
 "nbformat": 4,
 "nbformat_minor": 5
}
